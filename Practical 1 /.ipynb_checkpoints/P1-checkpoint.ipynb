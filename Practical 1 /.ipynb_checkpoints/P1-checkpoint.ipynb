{
 "cells": [
  {
   "cell_type": "code",
   "execution_count": 2,
   "metadata": {
    "collapsed": true
   },
   "outputs": [],
   "source": [
    "import pickle as cp\n",
    "import numpy as np\n",
    "\n",
    "X, y = cp.load(open('winequality-white.pickle','rb'))\n",
    "\n",
    "N, num_features = X.shape\n",
    "N_train = int(0.8 * N)\n",
    "N_test = N - N_train\n",
    "X_train = X[:N_train]\n",
    "y_train = y[:N_train]\n",
    "X_test = X[N_train:]\n",
    "y_test = y[N_train:]"
   ]
  },
  {
   "cell_type": "markdown",
   "metadata": {},
   "source": [
    "Handin 1 : \n",
    "Make a bar chart showing the distribution of y values appearing in the training set"
   ]
  },
  {
   "cell_type": "code",
   "execution_count": 23,
   "metadata": {},
   "outputs": [
    {
     "data": {
      "text/plain": [
       "<Container object of 7 artists>"
      ]
     },
     "execution_count": 23,
     "metadata": {},
     "output_type": "execute_result"
    },
    {
     "data": {
      "image/png": "[encoded data removed]",
      "text/plain": [
       "<matplotlib.figure.Figure at 0x7ff2614b4780>"
      ]
     },
     "metadata": {},
     "output_type": "display_data"
    }
   ],
   "source": [
    "from scipy.stats import itemfreq\n",
    "import matplotlib.pyplot as plt\n",
    "\n",
    "unique, counts = np.unique(y_train, return_counts=True)\n",
    "%matplotlib inline\n",
    "plt.bar(unique, counts, align='center', alpha=0.5)\n"
   ]
  },
  {
   "cell_type": "markdown",
   "metadata": {
    "collapsed": true
   },
   "source": [
    "Handin 2 : Report the mean squared error, i.e., the average of the squared residuals"
   ]
  },
  {
   "cell_type": "code",
   "execution_count": 6,
   "metadata": {
    "scrolled": true
   },
   "outputs": [
    {
     "name": "stdout",
     "output_type": "stream",
     "text": [
      "5.87876467586\n",
      "[-0.87876468  0.12123532 -0.87876468  0.12123532 -0.87876468 -0.87876468\n",
      " -0.87876468  1.12123532 -0.87876468  0.12123532  1.12123532 -0.87876468\n",
      "  0.12123532  1.12123532  0.12123532 -0.87876468 -0.87876468 -0.87876468\n",
      "  0.12123532  1.12123532  1.12123532  0.12123532  1.12123532  1.12123532\n",
      "  2.12123532 -2.87876468 -0.87876468  0.12123532  0.12123532 -0.87876468\n",
      " -1.87876468  1.12123532  0.12123532  0.12123532  0.12123532  1.12123532\n",
      "  0.12123532 -0.87876468  1.12123532 -0.87876468  1.12123532  1.12123532\n",
      "  0.12123532 -0.87876468 -0.87876468  1.12123532 -0.87876468  1.12123532\n",
      " -1.87876468  0.12123532  0.12123532  0.12123532  0.12123532  2.12123532\n",
      "  0.12123532  1.12123532 -0.87876468  0.12123532  1.12123532  0.12123532\n",
      "  0.12123532  0.12123532  0.12123532  0.12123532  0.12123532  0.12123532\n",
      "  0.12123532  1.12123532  0.12123532  0.12123532 -0.87876468  1.12123532\n",
      " -0.87876468  1.12123532  0.12123532  1.12123532  1.12123532  0.12123532\n",
      " -0.87876468  0.12123532 -1.87876468  1.12123532  1.12123532  0.12123532\n",
      " -0.87876468  0.12123532  0.12123532  0.12123532  1.12123532 -0.87876468\n",
      " -1.87876468  1.12123532  0.12123532 -0.87876468 -0.87876468  0.12123532\n",
      "  0.12123532  0.12123532  1.12123532  1.12123532  0.12123532  1.12123532\n",
      "  0.12123532  1.12123532  1.12123532  0.12123532 -0.87876468 -0.87876468\n",
      " -0.87876468 -0.87876468 -0.87876468  2.12123532  0.12123532  0.12123532\n",
      "  0.12123532 -0.87876468  0.12123532  0.12123532  0.12123532  0.12123532\n",
      "  0.12123532  0.12123532 -0.87876468 -0.87876468  0.12123532 -0.87876468\n",
      "  1.12123532  0.12123532  0.12123532  2.12123532  0.12123532  0.12123532\n",
      " -1.87876468  0.12123532  1.12123532  0.12123532  0.12123532  0.12123532\n",
      "  0.12123532  0.12123532  0.12123532  1.12123532 -0.87876468  0.12123532\n",
      "  0.12123532  2.12123532 -0.87876468  0.12123532 -0.87876468  0.12123532\n",
      "  0.12123532  0.12123532 -0.87876468  0.12123532  1.12123532 -0.87876468\n",
      " -0.87876468 -0.87876468 -1.87876468  1.12123532  0.12123532  1.12123532\n",
      " -0.87876468  1.12123532 -0.87876468  0.12123532  0.12123532 -0.87876468\n",
      " -0.87876468 -0.87876468 -1.87876468  1.12123532  0.12123532  0.12123532\n",
      "  1.12123532  0.12123532  0.12123532  1.12123532  0.12123532  0.12123532\n",
      " -0.87876468  1.12123532  0.12123532  2.12123532 -0.87876468  0.12123532\n",
      "  0.12123532 -0.87876468 -0.87876468 -0.87876468  0.12123532 -0.87876468\n",
      " -0.87876468  1.12123532 -0.87876468  1.12123532 -0.87876468  0.12123532\n",
      "  0.12123532 -0.87876468  1.12123532  2.12123532  1.12123532  0.12123532\n",
      "  0.12123532  1.12123532  0.12123532  2.12123532  1.12123532  1.12123532\n",
      " -0.87876468  0.12123532 -2.87876468 -0.87876468  0.12123532  0.12123532\n",
      "  0.12123532  0.12123532 -0.87876468  0.12123532  0.12123532  2.12123532\n",
      "  1.12123532  0.12123532  0.12123532  0.12123532  0.12123532  2.12123532\n",
      "  1.12123532  0.12123532  2.12123532  0.12123532  0.12123532 -0.87876468\n",
      "  0.12123532  0.12123532  0.12123532  1.12123532  0.12123532 -0.87876468\n",
      "  0.12123532  0.12123532  1.12123532 -0.87876468  1.12123532  0.12123532\n",
      "  0.12123532  0.12123532 -2.87876468  0.12123532 -0.87876468  0.12123532\n",
      "  0.12123532 -0.87876468  1.12123532  0.12123532 -0.87876468  0.12123532\n",
      "  1.12123532  0.12123532  1.12123532  0.12123532  0.12123532  1.12123532\n",
      "  1.12123532  1.12123532 -0.87876468 -0.87876468  0.12123532  0.12123532\n",
      "  1.12123532 -0.87876468  0.12123532  0.12123532 -0.87876468  1.12123532\n",
      "  0.12123532 -0.87876468 -0.87876468  1.12123532  0.12123532  0.12123532\n",
      "  0.12123532 -0.87876468 -0.87876468 -2.87876468 -0.87876468  0.12123532\n",
      "  0.12123532  0.12123532 -0.87876468  0.12123532  0.12123532  1.12123532\n",
      "  0.12123532 -1.87876468  0.12123532 -0.87876468 -0.87876468 -0.87876468\n",
      "  0.12123532  0.12123532  0.12123532  1.12123532  0.12123532  1.12123532\n",
      "  1.12123532  2.12123532 -0.87876468 -2.87876468 -0.87876468  1.12123532\n",
      "  0.12123532  1.12123532  0.12123532  1.12123532  0.12123532  2.12123532\n",
      "  0.12123532  1.12123532  0.12123532  0.12123532  0.12123532  1.12123532\n",
      " -0.87876468  0.12123532 -0.87876468  1.12123532  0.12123532  2.12123532\n",
      "  2.12123532 -0.87876468  0.12123532  0.12123532  0.12123532  0.12123532\n",
      " -0.87876468  0.12123532 -0.87876468  0.12123532 -0.87876468 -0.87876468\n",
      "  0.12123532  1.12123532  0.12123532 -0.87876468 -0.87876468 -0.87876468\n",
      " -0.87876468 -0.87876468  0.12123532  0.12123532  3.12123532  0.12123532\n",
      " -0.87876468 -0.87876468 -0.87876468  0.12123532  1.12123532  1.12123532\n",
      " -0.87876468  0.12123532  0.12123532  1.12123532  0.12123532  1.12123532\n",
      "  0.12123532  0.12123532  0.12123532  1.12123532 -0.87876468  0.12123532\n",
      " -0.87876468  0.12123532  0.12123532 -0.87876468  1.12123532  0.12123532\n",
      "  0.12123532  0.12123532 -0.87876468 -0.87876468  0.12123532 -0.87876468\n",
      " -1.87876468  0.12123532  0.12123532 -0.87876468  0.12123532 -0.87876468\n",
      " -0.87876468  1.12123532  0.12123532  0.12123532  0.12123532 -0.87876468\n",
      "  0.12123532 -0.87876468  2.12123532 -0.87876468 -0.87876468  0.12123532\n",
      " -0.87876468  1.12123532  0.12123532 -0.87876468  1.12123532 -0.87876468\n",
      "  0.12123532  0.12123532 -0.87876468 -0.87876468  0.12123532 -0.87876468\n",
      "  0.12123532 -0.87876468  1.12123532  1.12123532 -0.87876468 -0.87876468\n",
      "  0.12123532 -0.87876468 -1.87876468  1.12123532  0.12123532  0.12123532\n",
      " -0.87876468 -0.87876468  0.12123532 -0.87876468  1.12123532 -0.87876468\n",
      " -0.87876468  0.12123532  0.12123532  0.12123532 -1.87876468  0.12123532\n",
      "  0.12123532  0.12123532  0.12123532 -0.87876468 -0.87876468  0.12123532\n",
      "  0.12123532  0.12123532  0.12123532  0.12123532  0.12123532 -0.87876468\n",
      " -0.87876468 -0.87876468  0.12123532  0.12123532  1.12123532 -0.87876468\n",
      " -0.87876468  1.12123532  0.12123532  1.12123532  1.12123532  0.12123532\n",
      " -0.87876468  0.12123532  0.12123532  0.12123532  0.12123532  0.12123532\n",
      "  1.12123532  0.12123532 -0.87876468  1.12123532 -0.87876468  0.12123532\n",
      " -1.87876468 -0.87876468 -1.87876468 -0.87876468  1.12123532 -1.87876468\n",
      " -1.87876468  1.12123532  0.12123532  1.12123532  0.12123532  0.12123532\n",
      "  0.12123532  1.12123532  1.12123532  0.12123532  0.12123532 -0.87876468\n",
      " -0.87876468  0.12123532  0.12123532 -1.87876468  0.12123532 -0.87876468\n",
      "  0.12123532 -1.87876468  0.12123532  0.12123532  0.12123532  0.12123532\n",
      "  2.12123532  1.12123532  0.12123532  0.12123532  1.12123532  2.12123532\n",
      "  0.12123532  1.12123532  1.12123532  0.12123532 -0.87876468  1.12123532\n",
      " -0.87876468  0.12123532  0.12123532  0.12123532  0.12123532 -0.87876468\n",
      "  0.12123532  0.12123532 -0.87876468  0.12123532 -0.87876468  0.12123532\n",
      "  1.12123532  1.12123532 -0.87876468  0.12123532  0.12123532 -0.87876468\n",
      " -0.87876468  0.12123532 -0.87876468  0.12123532 -0.87876468 -0.87876468\n",
      " -0.87876468 -1.87876468  1.12123532  0.12123532  1.12123532  0.12123532\n",
      " -0.87876468 -0.87876468  0.12123532 -0.87876468 -0.87876468 -0.87876468\n",
      "  1.12123532  0.12123532  0.12123532  0.12123532 -0.87876468  0.12123532\n",
      "  0.12123532  0.12123532  0.12123532 -1.87876468  0.12123532  1.12123532\n",
      "  0.12123532  0.12123532 -0.87876468  1.12123532  0.12123532 -0.87876468\n",
      " -0.87876468  0.12123532 -0.87876468  0.12123532  0.12123532  0.12123532\n",
      "  0.12123532 -0.87876468 -0.87876468  1.12123532  0.12123532 -0.87876468\n",
      " -0.87876468  1.12123532 -1.87876468  1.12123532 -0.87876468  0.12123532\n",
      " -0.87876468  0.12123532 -0.87876468  0.12123532  1.12123532  1.12123532\n",
      "  0.12123532 -0.87876468 -0.87876468 -0.87876468  0.12123532  1.12123532\n",
      " -0.87876468  0.12123532  0.12123532  1.12123532  0.12123532 -0.87876468\n",
      "  0.12123532  0.12123532  0.12123532 -2.87876468 -0.87876468  0.12123532\n",
      " -0.87876468  2.12123532  0.12123532  0.12123532 -0.87876468  0.12123532\n",
      " -0.87876468  0.12123532 -0.87876468  0.12123532  1.12123532 -0.87876468\n",
      " -0.87876468  0.12123532 -0.87876468 -0.87876468 -0.87876468  0.12123532\n",
      "  0.12123532  1.12123532 -0.87876468  1.12123532  1.12123532  0.12123532\n",
      "  0.12123532  0.12123532  1.12123532  0.12123532  1.12123532  1.12123532\n",
      " -0.87876468 -0.87876468  1.12123532  1.12123532  2.12123532 -0.87876468\n",
      "  0.12123532  0.12123532  0.12123532  0.12123532  0.12123532  0.12123532\n",
      "  0.12123532 -0.87876468  0.12123532  1.12123532  2.12123532  1.12123532\n",
      "  0.12123532  0.12123532  1.12123532 -0.87876468 -0.87876468  0.12123532\n",
      "  0.12123532  1.12123532  1.12123532  0.12123532  1.12123532  1.12123532\n",
      " -0.87876468  0.12123532  0.12123532 -0.87876468  0.12123532 -0.87876468\n",
      " -0.87876468 -0.87876468  1.12123532  3.12123532  1.12123532  0.12123532\n",
      "  0.12123532  0.12123532  0.12123532 -0.87876468 -0.87876468  1.12123532\n",
      "  0.12123532 -1.87876468 -1.87876468 -1.87876468  0.12123532  1.12123532\n",
      "  0.12123532  0.12123532  0.12123532  0.12123532  0.12123532 -0.87876468\n",
      " -0.87876468 -1.87876468 -0.87876468 -0.87876468  0.12123532 -0.87876468\n",
      " -0.87876468  1.12123532  0.12123532  1.12123532  2.12123532 -0.87876468\n",
      "  1.12123532 -0.87876468  0.12123532 -0.87876468 -1.87876468  0.12123532\n",
      "  1.12123532  1.12123532 -0.87876468 -0.87876468  0.12123532 -0.87876468\n",
      " -0.87876468 -0.87876468 -0.87876468 -0.87876468  0.12123532 -0.87876468\n",
      "  0.12123532  0.12123532  1.12123532  0.12123532  0.12123532  0.12123532\n",
      " -0.87876468 -0.87876468  1.12123532  0.12123532  0.12123532  0.12123532\n",
      "  0.12123532 -0.87876468  1.12123532 -1.87876468  0.12123532  2.12123532\n",
      "  0.12123532  0.12123532  0.12123532 -0.87876468  0.12123532  0.12123532\n",
      "  1.12123532  1.12123532 -0.87876468 -0.87876468  0.12123532 -0.87876468\n",
      " -0.87876468 -1.87876468  1.12123532  0.12123532  1.12123532  0.12123532\n",
      " -0.87876468  0.12123532  0.12123532  0.12123532 -0.87876468  0.12123532\n",
      "  0.12123532 -1.87876468  1.12123532 -0.87876468  1.12123532  1.12123532\n",
      "  0.12123532  0.12123532  1.12123532  0.12123532  1.12123532  0.12123532\n",
      " -0.87876468 -0.87876468  0.12123532  1.12123532 -0.87876468  1.12123532\n",
      " -0.87876468  0.12123532 -1.87876468  0.12123532  0.12123532 -0.87876468\n",
      " -0.87876468 -0.87876468  0.12123532  0.12123532  0.12123532  0.12123532\n",
      " -0.87876468 -0.87876468  1.12123532 -0.87876468  0.12123532  1.12123532\n",
      "  1.12123532  1.12123532  1.12123532  1.12123532 -0.87876468  0.12123532\n",
      " -1.87876468  0.12123532  1.12123532  0.12123532  1.12123532  0.12123532\n",
      " -0.87876468 -0.87876468  0.12123532  0.12123532 -0.87876468  1.12123532\n",
      "  1.12123532 -0.87876468 -0.87876468 -0.87876468  0.12123532 -0.87876468\n",
      "  0.12123532 -0.87876468  0.12123532 -0.87876468  2.12123532  0.12123532\n",
      "  1.12123532 -1.87876468  1.12123532  0.12123532  0.12123532  2.12123532\n",
      " -0.87876468 -0.87876468 -0.87876468 -0.87876468  0.12123532 -0.87876468\n",
      " -0.87876468  0.12123532  0.12123532  0.12123532  1.12123532  1.12123532\n",
      " -0.87876468  0.12123532  0.12123532  0.12123532  0.12123532  0.12123532\n",
      "  0.12123532 -0.87876468 -0.87876468  1.12123532  0.12123532 -0.87876468\n",
      "  2.12123532 -0.87876468  0.12123532  2.12123532  0.12123532  0.12123532\n",
      " -0.87876468  1.12123532  2.12123532 -0.87876468 -0.87876468 -0.87876468\n",
      "  0.12123532  0.12123532 -0.87876468 -0.87876468  2.12123532  0.12123532\n",
      "  1.12123532 -0.87876468  1.12123532  0.12123532  0.12123532  1.12123532\n",
      "  1.12123532  0.12123532 -0.87876468  1.12123532  1.12123532 -1.87876468\n",
      " -1.87876468  0.12123532  0.12123532  0.12123532  0.12123532  0.12123532\n",
      "  0.12123532 -0.87876468  0.12123532  2.12123532  1.12123532  0.12123532\n",
      "  0.12123532  0.12123532  0.12123532 -0.87876468  0.12123532  0.12123532\n",
      "  1.12123532  0.12123532 -0.87876468  0.12123532 -0.87876468  0.12123532\n",
      "  1.12123532  2.12123532  1.12123532  0.12123532 -0.87876468 -0.87876468\n",
      " -0.87876468 -0.87876468 -0.87876468 -0.87876468  0.12123532  0.12123532\n",
      "  0.12123532 -0.87876468  1.12123532 -0.87876468  0.12123532  0.12123532\n",
      " -0.87876468 -0.87876468 -0.87876468 -0.87876468  1.12123532  1.12123532\n",
      "  1.12123532 -1.87876468  1.12123532 -0.87876468  0.12123532 -0.87876468\n",
      " -0.87876468 -0.87876468  1.12123532  0.12123532 -0.87876468 -0.87876468\n",
      "  0.12123532  1.12123532  0.12123532 -0.87876468  0.12123532 -0.87876468\n",
      " -0.87876468 -0.87876468 -0.87876468 -0.87876468  0.12123532  0.12123532\n",
      "  0.12123532 -0.87876468  0.12123532  0.12123532  0.12123532  0.12123532\n",
      "  0.12123532  0.12123532]\n",
      "Naive mse 0.776777\n",
      "Naive mse_test 0.813857\n"
     ]
    }
   ],
   "source": [
    "average = np.mean(y_train)\n",
    "mse = np.mean((y_train - average)**2)\n",
    "mse_test = np.mean((y_test- average)**2)\n",
    "print (\"Naive mse %f\"%mse)\n",
    "print (\"Naive mse_test %f\"%mse_test)"
   ]
  },
  {
   "cell_type": "code",
   "execution_count": 22,
   "metadata": {
    "collapsed": true
   },
   "outputs": [],
   "source": [
    "feature_mean = [] \n",
    "feature_std = [] \n",
    "for col in range(num_features):\n",
    "    feature_val = X_train[:,col]\n",
    "    mean = np.mean(feature_val)\n",
    "    std = np.std(feature_val)\n",
    "    std_feature = (feature_val - mean)/std \n",
    "    feature_mean.append(mean)\n",
    "    feature_std.append(std)\n",
    "    X_train[:,col] = std_feature \n",
    "    test_feature_val = X_test[:,col]\n",
    "    std_test = (test_feature_val - mean)/std \n",
    "    X_test[:,col] = std_test"
   ]
  },
  {
   "cell_type": "markdown",
   "metadata": {},
   "source": [
    "Closed-form Linear Regression Model "
   ]
  },
  {
   "cell_type": "code",
   "execution_count": 21,
   "metadata": {
    "scrolled": false
   },
   "outputs": [
    {
     "name": "stdout",
     "output_type": "stream",
     "text": [
      "MSE for training data : 0.564000\n",
      "MSE for test data : 0.560729\n"
     ]
    }
   ],
   "source": [
    "from numpy.linalg import inv\n",
    "ones = np.ones(len(X_train))\n",
    "X_train_appended = np.column_stack((ones,X_train))\n",
    "X_transpose = np.transpose(X_train_appended)\n",
    "w = np.dot(np.dot(inv(np.dot(X_transpose, X_train_appended)),X_transpose),y_train)\n",
    "y_predict = np.dot(X_train_appended,w)\n",
    "mse = np.average((y_train - y_predict)**2)\n",
    "print (\"MSE for training data : %f\"%mse)\n",
    "X_test_appended = np.column_stack((np.ones(len(X_test)),X_test))\n",
    "y_test_predict =  np.dot(X_test_appended,w)\n",
    "mse_test = np.average((y_test - y_test_predict)**2)\n",
    "print (\"MSE for test data : %f\"%mse_test)"
   ]
  },
  {
   "cell_type": "markdown",
   "metadata": {},
   "source": [
    "Double Checking with sklearn "
   ]
  },
  {
   "cell_type": "code",
   "execution_count": 7,
   "metadata": {},
   "outputs": [
    {
     "name": "stdout",
     "output_type": "stream",
     "text": [
      "Mean squared error for training data: 0.56\n",
      "Mean squared error for test data: 0.56\n"
     ]
    }
   ],
   "source": [
    "from sklearn import datasets, linear_model\n",
    "from sklearn.metrics import mean_squared_error, r2_score\n",
    "regr = linear_model.LinearRegression()\n",
    "regr.fit(X_train, y_train)\n",
    "#print('Coefficients: \\n', regr.coef_)\n",
    "predict = regr.predict(X_train)\n",
    "print(\"Mean squared error for training data: %.2f\"\n",
    "      % mean_squared_error(y_train,predict ))\n",
    "predict_test = regr.predict(X_test)\n",
    "print(\"Mean squared error for test data: %.2f\"\n",
    "      % mean_squared_error(y_test,predict_test ))"
   ]
  },
  {
   "cell_type": "markdown",
   "metadata": {
    "collapsed": true
   },
   "source": [
    "Handin 4: Report the learning curves plot"
   ]
  },
  {
   "cell_type": "code",
   "execution_count": 8,
   "metadata": {},
   "outputs": [
    {
     "data": {
      "text/plain": [
       "<matplotlib.legend.Legend at 0x7ff2680a1588>"
      ]
     },
     "execution_count": 8,
     "metadata": {},
     "output_type": "execute_result"
    },
    {
     "data": {
      "image/png": "[encoded data removed]",
      "text/plain": [
       "<matplotlib.figure.Figure at 0x7ff26ef2d860>"
      ]
     },
     "metadata": {},
     "output_type": "display_data"
    }
   ],
   "source": [
    "datasets = 20 \n",
    "max_datasets = 600\n",
    "datapoints = []\n",
    "training_error = []\n",
    "testing_error = [] \n",
    "\n",
    "while (datasets <600): \n",
    "    X_train_batch = X_train_appended[:datasets,:]\n",
    "    y_train_batch = y_train[:datasets]\n",
    "    X_transpose = np.transpose(X_train_batch)\n",
    "    w = np.dot(np.dot(inv(np.dot(X_transpose, X_train_batch)),X_transpose),y_train_batch)\n",
    "    y_predict = np.dot(X_train_batch,w)\n",
    "    mse = np.average((y_train_batch - y_predict)**2)\n",
    "    training_error.append(mse)\n",
    "    X_test = X_test_appended\n",
    "    y_test_predict =  np.dot(X_test,w)\n",
    "    mse_test = np.average((y_test - y_test_predict)**2)\n",
    "    testing_error.append(mse_test)\n",
    "    datasets = datasets + 20 \n",
    "    datapoints.append(datasets)\n",
    "    \n",
    "%matplotlib inline\n",
    "plt.plot(datapoints,training_error)\n",
    "plt.plot(datapoints,testing_error)\n",
    "\n",
    "plt.legend(['Training Error', 'Testing Error'], loc='upper right')\n"
   ]
  },
  {
   "cell_type": "markdown",
   "metadata": {},
   "source": [
    "I think the model is not underfitting. After getting around 250 data points the training error and testing error plateaus and that's the amount of data needed to get the optimal test error.  "
   ]
  },
  {
   "cell_type": "code",
   "execution_count": null,
   "metadata": {
    "collapsed": true
   },
   "outputs": [],
   "source": []
  },
  {
   "cell_type": "code",
   "execution_count": 27,
   "metadata": {},
   "outputs": [
    {
     "name": "stdout",
     "output_type": "stream",
     "text": [
      "working with poly degree 2\n",
      "mse for ridge regression with optimal lambda 1.000000 : 0.512589\n",
      "mse for lasso regression with optimal lambda 0.010000 : 0.527511\n",
      "working with poly degree 3\n",
      "mse for ridge regression with optimal lambda 100.000000 : 0.599301\n",
      "mse for lasso regression with optimal lambda 0.010000 : 0.514302\n",
      "working with poly degree 4\n",
      "mse for ridge regression with optimal lambda 100.000000 : 1.087639\n",
      "mse for lasso regression with optimal lambda 0.010000 : 0.521606\n",
      "working with poly degree 5\n",
      "mse for ridge regression with optimal lambda 100.000000 : 1.597427\n",
      "mse for lasso regression with optimal lambda 0.010000 : 0.508657\n",
      "optimal for ridge is degre 2 with mse 0.512589\n",
      "optimal for lasso is degre 5 with mse 0.508657\n"
     ]
    }
   ],
   "source": [
    "lambda_list = [0.01,0.1,1,10,100 ]\n",
    "\n",
    "X_train_new = X[:int(0.6*N)]\n",
    "X_validation = X[int(0.6*N):int(0.8*N)]\n",
    "y_train_new = y[:int(0.6*N)]\n",
    "y_validation = y[int(0.6*N):int(0.8*N)]\n",
    "X_train = X[:int(0.8*N)]\n",
    "y_train = y[:int(0.8*N)]\n",
    "X_test = X[int(0.8*N):]\n",
    "\n",
    "from sklearn.preprocessing import PolynomialFeatures\n",
    "from sklearn.preprocessing import StandardScaler\n",
    "from sklearn.linear_model import Ridge\n",
    "from sklearn.linear_model import Lasso\n",
    "\n",
    "optimal_ridges = [] \n",
    "optimal_lassos = []\n",
    "poly_degrees = [2,3,4,5]\n",
    "for poly_degree in poly_degrees: \n",
    "    print ('working with poly degree %d'%poly_degree)\n",
    "    poly = PolynomialFeatures(poly_degree)\n",
    "    X_train_new_poly = poly.fit_transform(X_train_new)\n",
    "    X_validation_poly = poly.transform(X_validation)\n",
    "    X_train_poly = poly.transform(X_train)\n",
    "    X_test_poly = poly.transform(X_test)\n",
    "\n",
    "    scaler = StandardScaler()\n",
    "    X_transform = scaler.fit_transform(X_train_new_poly)\n",
    "    X_validation_transform = scaler.transform(X_validation_poly)\n",
    "    X_train_transform = scaler.transform(X_train_poly)\n",
    "    X_test_transform = scaler.transform(X_test_poly)\n",
    "\n",
    "    coefs_ridge = []\n",
    "    ridge_mse_list = [] \n",
    "    for lam in lambda_list : \n",
    "        ridge = Ridge(alpha=lam)\n",
    "        ridge.fit(X_transform, y_train_new) \n",
    "        y_validation_predict = ridge.predict(X_validation_transform)\n",
    "        coefs_ridge.append(ridge.coef_)\n",
    "        mse = mean_squared_error(y_validation,y_validation_predict)\n",
    "        ridge_mse_list.append(mse)\n",
    "     #   print ('lambda %f with mse %f '%(lam, mse))\n",
    "\n",
    "    optimal_lam_ridge = lambda_list[ridge_mse_list.index(min(ridge_mse_list))]\n",
    "\n",
    "    coefs_lasso = []\n",
    "    lasso_mse_list = [] \n",
    "    for lam in lambda_list : \n",
    "        lasso = Lasso(alpha=lam)\n",
    "        lasso.fit(X_transform, y_train_new) \n",
    "        y_validation_predict = lasso.predict(X_validation_transform)\n",
    "        coefs_lasso.append(lasso.coef_)\n",
    "        mse = mean_squared_error(y_validation,y_validation_predict)\n",
    "        lasso_mse_list.append(mse)\n",
    "    #    print ('lambda %f with mse %f '%(lam, mse))\n",
    "\n",
    "    optimal_lam_lasso = lambda_list[lasso_mse_list.index(min(lasso_mse_list))]\n",
    "\n",
    "\n",
    "    # running with optimal lambda for ridge \n",
    "    ridge = Ridge(alpha=optimal_lam_ridge)\n",
    "    ridge.fit(X_train_transform, y_train) \n",
    "    y_test_predict = ridge.predict(X_test_transform)\n",
    "    mse = mean_squared_error(y_test,y_test_predict)\n",
    "    optimal_ridges.append(mse)\n",
    "    print ('mse for ridge regression with optimal lambda %f : %f'%(optimal_lam_ridge,mse))\n",
    "\n",
    "    # running with optimal lambda for lasso \n",
    "    lasso = Lasso(alpha=optimal_lam_lasso)\n",
    "    lasso.fit(X_train_transform, y_train) \n",
    "    y_test_predict = lasso.predict(X_test_transform)\n",
    "    mse = mean_squared_error(y_test,y_test_predict)\n",
    "    optimal_lassos.append(mse)\n",
    "    print ('mse for lasso regression with optimal lambda %f : %f'%(optimal_lam_lasso,mse))\n",
    "\n",
    "\n",
    "print ('optimal for ridge is degre %d with mse %f'%(poly_degrees[optimal_ridges.index(min(optimal_ridges))], min(optimal_ridges)))\n",
    "print ('optimal for lasso is degre %d with mse %f'%(poly_degrees[optimal_lassos.index(min(optimal_lassos))],min(optimal_lassos)))\n",
    "# Plotting ... \n",
    "#    %matplotlib inline\n",
    "#    ax = plt.gca()\n",
    "\n",
    "#    ax.plot(lambda_list, coefs_ridge)\n",
    "#    ax.set_xscale('log')\n",
    "#    ax.set_xlim(ax.get_xlim()[::-1])  # reverse axis\n",
    "#    plt.xlabel('alpha')\n",
    "#    plt.ylabel('weights')\n",
    "#    plt.title('Ridge coefficients as a function of the regularization')\n",
    "#    plt.axis('tight')\n",
    "#    plt.show()\n",
    "\n",
    "#    %matplotlib inline\n",
    "#    ax2 = plt.gca()\n",
    "#    ax2.plot(lambda_list, coefs_lasso)\n",
    "#    ax2.set_xscale('log')\n",
    "#    ax2.set_xlim(ax.get_xlim()[::-1])  # reverse axis\n",
    "#    plt.xlabel('alpha')\n",
    "#    plt.ylabel('weights')\n",
    "#    plt.title('Lasso coefficients as a function of the regularization')\n",
    "#    plt.axis('tight')\n",
    "#    plt.show()\n"
   ]
  },
  {
   "cell_type": "markdown",
   "metadata": {
    "collapsed": true
   },
   "source": [
    "According to the Results, per the combinations tried, the optimal configuration for ridge regressino is degree 2 with lambda 1 and the optimal configuration for lasso is degree 5 with lambda 0.01"
   ]
  }
 ],
 "metadata": {
  "anaconda-cloud": {},
  "kernelspec": {
   "display_name": "Python 3",
   "language": "python",
   "name": "python3"
  },
  "language_info": {
   "codemirror_mode": {
    "name": "ipython",
    "version": 3
   },
   "file_extension": ".py",
   "mimetype": "text/x-python",
   "name": "python",
   "nbconvert_exporter": "python",
   "pygments_lexer": "ipython3",
   "version": "3.6.2"
  }
 },
 "nbformat": 4,
 "nbformat_minor": 2
}
