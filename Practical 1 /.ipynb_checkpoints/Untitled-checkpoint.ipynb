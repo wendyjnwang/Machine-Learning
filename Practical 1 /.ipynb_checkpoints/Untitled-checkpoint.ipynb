{
 "cells": [
  {
   "cell_type": "code",
   "execution_count": 46,
   "metadata": {
    "collapsed": true
   },
   "outputs": [],
   "source": [
    "import _pickle as cp\n",
    "import numpy as np\n",
    "\n",
    "X, y = cp.load(open('winequality-white.pickle','rb'))\n",
    "\n",
    "N, num_features = X.shape\n",
    "N_train = int(0.8 * N)\n",
    "N_test = N - N_train\n",
    "X_train = X[:N_train]\n",
    "y_train = y[:N_train]\n",
    "X_test = X[N_train:]\n",
    "y_test = y[N_train:]"
   ]
  },
  {
   "cell_type": "markdown",
   "metadata": {},
   "source": [
    "Handin 1 : \n",
    "Make a bar chart showing the distribution of y values appearing in the training set"
   ]
  },
  {
   "cell_type": "code",
   "execution_count": 35,
   "metadata": {},
   "outputs": [
    {
     "data": {
      "text/plain": [
       "<Container object of 7 artists>"
      ]
     },
     "execution_count": 35,
     "metadata": {},
     "output_type": "execute_result"
    },
    {
     "data": {
      "image/png": "[encoded data removed]",
      "text/plain": [
       "<matplotlib.figure.Figure at 0x7fe0a8d368d0>"
      ]
     },
     "metadata": {},
     "output_type": "display_data"
    }
   ],
   "source": [
    "from scipy.stats import itemfreq\n",
    "import matplotlib.pyplot as plt\n",
    "\n",
    "unique, counts = np.unique(y_train, return_counts=True)\n",
    "%matplotlib inline\n",
    "plt.bar(unique, counts, align='center', alpha=0.5)\n"
   ]
  },
  {
   "cell_type": "markdown",
   "metadata": {
    "collapsed": true
   },
   "source": [
    "Handin 2 : Report the mean squared error, i.e., the average of the squared residuals"
   ]
  },
  {
   "cell_type": "code",
   "execution_count": 40,
   "metadata": {},
   "outputs": [
    {
     "data": {
      "text/plain": [
       "0.77677723865011172"
      ]
     },
     "execution_count": 40,
     "metadata": {},
     "output_type": "execute_result"
    }
   ],
   "source": [
    "average = np.average(y_train)\n",
    "mse = np.average((y_train - average)**2)\n",
    "mse"
   ]
  },
  {
   "cell_type": "code",
   "execution_count": 55,
   "metadata": {},
   "outputs": [
    {
     "data": {
      "text/plain": [
       "array([[        nan, -0.38559258,  0.84593335, ..., -0.84345239,\n",
       "        -1.05366384,  0.88824123],\n",
       "       [        nan,  1.32186873, -0.0393787 , ...,  0.09019543,\n",
       "         0.27386315, -0.90714153],\n",
       "       [        nan, -0.78734818,  0.44351878, ..., -1.24358716,\n",
       "        -0.61115484, -0.09105846],\n",
       "       ..., \n",
       "       [        nan,  0.71923533, -0.76372492, ..., -1.04351977,\n",
       "         0.89337574, -0.00945015],\n",
       "       [        nan,  0.61879643, -0.28082744, ..., -0.643385  ,\n",
       "        -1.31916923,  1.21467446],\n",
       "       [        nan,  0.21704082, -0.76372492, ...,  0.22357369,\n",
       "        -0.16864585, -0.82553323]])"
      ]
     },
     "execution_count": 55,
     "metadata": {},
     "output_type": "execute_result"
    }
   ],
   "source": [
    "feature_mean = [] \n",
    "feature_std = [] \n",
    "for col in range(num_features):\n",
    "    feature_val = X_train[:,col]\n",
    "    mean = np.mean(feature_val)\n",
    "    std = np.std(feature_val)\n",
    "    std_feature = (feature_val - mean)/std \n",
    "    feature_mean.append(mean)\n",
    "    feature_std.append(std)\n",
    "    #X_train[:,col] = std_feature \n",
    "    \n",
    "X_train\n"
   ]
  },
  {
   "cell_type": "code",
   "execution_count": null,
   "metadata": {
    "collapsed": true
   },
   "outputs": [],
   "source": []
  }
 ],
 "metadata": {
  "kernelspec": {
   "display_name": "Python 3",
   "language": "python",
   "name": "python3"
  },
  "language_info": {
   "codemirror_mode": {
    "name": "ipython",
    "version": 3
   },
   "file_extension": ".py",
   "mimetype": "text/x-python",
   "name": "python",
   "nbconvert_exporter": "python",
   "pygments_lexer": "ipython3",
   "version": "3.6.2"
  }
 },
 "nbformat": 4,
 "nbformat_minor": 2
}
