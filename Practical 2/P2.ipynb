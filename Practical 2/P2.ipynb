{
 "cells": [
  {
   "cell_type": "code",
   "execution_count": 2,
   "metadata": {
    "collapsed": true,
    "scrolled": true
   },
   "outputs": [],
   "source": [
    "import numpy as np \n",
    "import scipy.stats \n",
    "from scipy.misc import logsumexp\n",
    "epsilon = 1e-6\n",
    "\n",
    "\n",
    "class NBC(object):\n",
    "    \n",
    "    def __init__(self,feature_types=['b','r','b'],num_classes=4):\n",
    "        self.feature_types = np.array(feature_types)\n",
    "        self.num_classes = num_classes\n",
    "        self.num_features = len(feature_types)\n",
    "        self.alphab = 1 \n",
    "        self.alpham = 1 \n",
    "    \n",
    "    def fit(self,X,y):\n",
    "        self.classes, counts = np.unique(y, return_counts=True)\n",
    "        self.class_prior_ = counts/float(len(y))   \n",
    "        posClassMap = dict(enumerate(self.classes))\n",
    "        classPosMap = dict ((j,i) for (i,j) in enumerate(self.classes))\n",
    "  \n",
    "        if len(self.classes) != self.num_classes: \n",
    "            raise ValueError(\"Number of classes given is not equal to number of unique classes observed in training data\")\n",
    "        \n",
    "        self.real_features = np.where(self.feature_types == 'r')[0]\n",
    "        self.binary_features = np.where(self.feature_types == 'b')[0]\n",
    "        self.multivariate_features = np.where(self.feature_types == 'm')[0]\n",
    "        \n",
    "        self.mean_ = np.zeros((self.num_classes,len(self.real_features)))\n",
    "        self.var_ = np.zeros((self.num_classes,len(self.real_features)))  \n",
    "        self.binary_prob_log = np.zeros((self.num_classes,len(self.binary_features)))\n",
    "        self.binary_prob_log_neg = np.zeros((self.num_classes,len(self.binary_features)))\n",
    "        self.multi_prob_log = np.zeros((self.num_classes,len(self.multivariate_features)))\n",
    "        \n",
    "        for y_i in self.classes: \n",
    "            #seperate X by classes \n",
    "            pos = classPosMap.get(y_i)\n",
    "            X_i = X[y == y_i, :]\n",
    " \n",
    "            #deal with real-valued features  \n",
    "            if (len(self.real_features)>0):\n",
    "                X_r_i = X_i[:,self.real_features]\n",
    "                self.mean_[pos,:]= np.mean(X_r_i,axis=0)\n",
    "                self.var_[pos,:]= np.var(X_r_i,axis=0) + epsilon\n",
    "            \n",
    "            #deal with binary features \n",
    "            if (len(self.binary_features)>0):\n",
    "                X_b_i = X_i[:,self.binary_features]\n",
    "                smoothed_fc = np.sum(X_b_i,axis=0)+ self.alphab\n",
    "                smoothed_fc = np.nansum(X_b_i,axis=0)+ self.alphab\n",
    "                smoothed_cc = len(X_b_i) + 2*self.alphab\n",
    "                smoothed_cc = len(X_b_i) + 2*self.alphab - np.count_nonzero(np.isnan(X_b_i),axis=0)\n",
    "                feature_log_prob = np.log(smoothed_fc/smoothed_cc)\n",
    "                self.binary_prob_log[pos,:] = feature_log_prob\n",
    "                self.binary_prob_log_neg[pos,:] = np.log(1 - np.exp(feature_log_prob))\n",
    "                        \n",
    "            #deal with multivariate_features\n",
    "            if (len(self.multivariate_features)>0):\n",
    "                X_m_i = X_i[:,self.multivariate_features]\n",
    "                smoothed_fc = np.sum(X_m_i,axis=0) + self.alpham\n",
    "                smoothed_cc = np.atleast_2d(smoothed_fc).sum(axis=1)\n",
    "                self.multi_prob_log[pos,:] = np.log(smoothed_fc) - np.log(smoothed_cc)\n",
    "        return self\n",
    "    \n",
    "    def predict(self,X):\n",
    "        joint_log_likelihood = [] \n",
    "        for i in range(self.num_classes):\n",
    "            prior = self.class_prior_[i]            \n",
    "            jointi = np.log(prior)\n",
    "            # dealing with real-valued features first \n",
    "            if (len(self.real_features)>0):\n",
    "                r_n_ij = - 0.5 * np.sum(np.log(2. * np.pi * self.var_[i, :]))\n",
    "                r_n_ij -= 0.5 * np.sum(((X[:,self.real_features] - self.mean_[i, :]) ** 2) /\n",
    "                                 (self.var_[i, :]), 1)\n",
    "                jointi += r_n_ij\n",
    "            if (len(self.binary_features)>0):\n",
    "                b_n_ij = np.dot(X[:,self.binary_features],(self.binary_prob_log[i,:] - self.binary_prob_log_neg[i,:]).T ) \\\n",
    "                    + np.atleast_2d(self.binary_prob_log_neg[i,:]).sum(axis=1)\n",
    "                jointi += b_n_ij\n",
    "            if (len(self.multivariate_features)>0):\n",
    "                m_n_ij = np.dot(X[:,self.multivariate_features],self.multi_prob_log[i,:].T ) \n",
    "                jointi += m_n_ij       \n",
    "                \n",
    "            joint_log_likelihood.append(jointi)\n",
    "        joint_log_likelihood = np.array(joint_log_likelihood).T\n",
    "        log_prob_x = logsumexp(joint_log_likelihood, axis=1)\n",
    "        joint_log_likelihood -=  np.atleast_2d(log_prob_x).T    \n",
    "        return self.classes[np.argmax(joint_log_likelihood, axis=1)]   "
   ]
  },
  {
   "cell_type": "markdown",
   "metadata": {},
   "source": [
    "Handin 1 :\n",
    "\n",
    "C is the inverse of regularization strength.\n",
    "To match our fomula with the [documentation page](http://scikit-learn.org/stable/modules/linear_model.html#logistic-regression) we need to set  $C = \\frac{1}{2 \\lambda}$\n",
    "so when $\\lambda$ = 0.1, we should set C as 5.  "
   ]
  },
  {
   "cell_type": "code",
   "execution_count": 3,
   "metadata": {
    "collapsed": true
   },
   "outputs": [],
   "source": [
    "from sklearn.linear_model import LogisticRegression\n",
    "LogisticModel = LogisticRegression()"
   ]
  },
  {
   "cell_type": "code",
   "execution_count": 12,
   "metadata": {
    "collapsed": true
   },
   "outputs": [],
   "source": [
    "import matplotlib.pyplot as plt\n",
    "from sklearn.linear_model import LogisticRegression\n",
    "from sklearn.naive_bayes import GaussianNB\n",
    "from sklearn.naive_bayes import BernoulliNB\n",
    "\n",
    "class ModelComparator(object):\n",
    "    \n",
    "    def __init__(self,X,y,NBCModel, LogisticModel):\n",
    "        self.X = X\n",
    "        self.y = y \n",
    "        self.NBCModel = NBCModel\n",
    "        self.LogisticModel = LogisticModel\n",
    "        \n",
    "    def compareModelPerformance(self):\n",
    "        X = self.X\n",
    "        y = self.y\n",
    "        NBCModel = self.NBCModel\n",
    "        TestModel = GaussianNB()\n",
    "        TestModel = BernoulliNB()\n",
    "        LogisticModel = self.LogisticModel   \n",
    "        NBC_error_matrix = []\n",
    "        Logistic_error_matrix = []\n",
    "        Test_error_matrix = []\n",
    "        \n",
    "        N, D = X.shape\n",
    "        Ntrain = int(0.8 * N)\n",
    "        num_permutations = 1000\n",
    "        perm =  0\n",
    "        datapoints = [i+1 for i in range(10)]\n",
    "\n",
    "        for i in range(num_permutations):\n",
    "            k = 1\n",
    "            perm +=1\n",
    "            NBC_error = [] \n",
    "            NBC_error2 = []\n",
    "            Logistic_error = []\n",
    "            Test_error = []\n",
    "            \n",
    "            # make sure the first fold contains all possible categories ... \n",
    "            first_fold = int(k/10.*Ntrain )\n",
    "            while (1):\n",
    "                shuffler = np.random.permutation(N)\n",
    "                Xtrain = X[shuffler[:Ntrain]]\n",
    "                ytrain = y[shuffler[:Ntrain]]\n",
    "                Xtest = X[shuffler[Ntrain:]]\n",
    "                ytest = y[shuffler[Ntrain:]]\n",
    "                if len(np.unique(ytrain[:first_fold])) == len(np.unique(y)):\n",
    "                    break \n",
    "\n",
    "            while (k<=10):\n",
    "                NPartialTrain = int(k/10.*Ntrain)\n",
    "                X_train_model = Xtrain[:NPartialTrain]\n",
    "                y_train_model = ytrain[:NPartialTrain]\n",
    "                \n",
    "#                 TestModel.fit(X_train_model,y_train_model)\n",
    "#                 TestPredicted = TestModel.predict(Xtest)\n",
    "#                 Test_error.append(1- float(np.sum((TestPredicted == ytest))/len(ytest))\n",
    "                NBCModel = self.NBCModel\n",
    "                NBCModel = NBCModel.fit(X_train_model,y_train_model)            \n",
    "                NBCPredicted = NBCModel.predict(Xtest)\n",
    "           \n",
    "                NBC_error.append(1. - np.mean(NBCPredicted == ytest))        \n",
    "\n",
    "                # If data is missign for logisitc models, replace with 0 \n",
    "                X_train_model=np.nan_to_num(X_train_model)\n",
    "                Xtest=np.nan_to_num(Xtest)\n",
    "                LogisticModel = LogisticRegression(C=5)\n",
    "                LogisticModel = LogisticModel.fit(X_train_model,y_train_model)\n",
    "                LPredicted = LogisticModel.predict(Xtest)      \n",
    "                Logistic_error.append(1. - np.mean(LPredicted == ytest))\n",
    "                k+=1\n",
    "                \n",
    "            NBC_error_matrix.append(NBC_error)\n",
    "            Logistic_error_matrix.append(Logistic_error)\n",
    "#             Test_error_matrix.append(Test_error)\n",
    "\n",
    "        NBC_error = np.mean(np.array(NBC_error_matrix),axis=0).squeeze()\n",
    "        Logistic_error = np.mean(np.array(Logistic_error_matrix),axis=0).squeeze()\n",
    "#         Test_error= np.mean(np.matrix(Test_error_matrix),axis=0)\n",
    "        \n",
    "        \n",
    "        %matplotlib inline    \n",
    "        plt.plot(datapoints,NBC_error)\n",
    "        plt.plot(datapoints,Logistic_error)\n",
    "        plt.legend(['NBC Model Testing Error', 'Logistic Model Testing Error'], loc='upper right') \n",
    "        return (NBC_error, Logistic_error)"
   ]
  },
  {
   "cell_type": "markdown",
   "metadata": {},
   "source": [
    "Iris Dataset "
   ]
  },
  {
   "cell_type": "code",
   "execution_count": 13,
   "metadata": {
    "scrolled": false
   },
   "outputs": [
    {
     "data": {
      "image/png": "[encoded data removed]",
      "text/plain": [
       "<matplotlib.figure.Figure at 0x7fbc3c62aa58>"
      ]
     },
     "metadata": {},
     "output_type": "display_data"
    }
   ],
   "source": [
    "from sklearn.datasets import load_iris\n",
    "from sklearn import metrics\n",
    "iris = load_iris()\n",
    "X, y = iris['data'], iris['target']\n",
    "NBCModel = NBC(['r','r','r','r'],3)\n",
    "\n",
    "IrisModelComparator = ModelComparator(X,y,NBCModel,LogisticModel)\n",
    "nbcerr, logerr = IrisModelComparator.compareModelPerformance()\n"
   ]
  },
  {
   "cell_type": "markdown",
   "metadata": {},
   "source": [
    "Congressional Voting Records Dataset"
   ]
  },
  {
   "cell_type": "code",
   "execution_count": 14,
   "metadata": {},
   "outputs": [
    {
     "data": {
      "text/plain": [
       "(array([ 0.10008511,  0.0967234 ,  0.0942766 ,  0.09276596,  0.09025532,\n",
       "         0.08887234,  0.08876596,  0.08761702,  0.08740426,  0.08721277]),\n",
       " array([ 0.08814894,  0.06561702,  0.05485106,  0.0483617 ,  0.04521277,\n",
       "         0.04317021,  0.04297872,  0.04212766,  0.04189362,  0.0413617 ]))"
      ]
     },
     "execution_count": 14,
     "metadata": {},
     "output_type": "execute_result"
    },
    {
     "data": {
      "image/png": "[encoded data removed]",
      "text/plain": [
       "<matplotlib.figure.Figure at 0x7fbc0d23f0f0>"
      ]
     },
     "metadata": {},
     "output_type": "display_data"
    }
   ],
   "source": [
    "import pickle as cp\n",
    "import numpy as np\n",
    "\n",
    "X, y = cp.load(open('voting.pickle', 'rb'))\n",
    "NBCModel = NBC(['b']*16,2)\n",
    "BinaryModel = BernoulliNB() \n",
    "NBCModel.fit(X,y)\n",
    "BinaryModel.fit(X,y)\n",
    "CongressModelComparator = ModelComparator(X,y,NBCModel,LogisticModel)\n",
    "CongressModelComparator.compareModelPerformance()\n"
   ]
  },
  {
   "cell_type": "markdown",
   "metadata": {},
   "source": [
    "Congressional Voting Records Dataset wiht Missing Data"
   ]
  },
  {
   "cell_type": "code",
   "execution_count": 15,
   "metadata": {},
   "outputs": [
    {
     "data": {
      "text/plain": [
       "(array([ 0.37995402,  0.10528736,  0.10432184,  0.10377011,  0.10372414,\n",
       "         0.10314943,  0.1024023 ,  0.10241379,  0.10156322,  0.10128736]),\n",
       " array([ 0.07250575,  0.0584023 ,  0.0515977 ,  0.0477931 ,  0.04528736,\n",
       "         0.0435977 ,  0.0415977 ,  0.04078161,  0.03988506,  0.03904598]))"
      ]
     },
     "execution_count": 15,
     "metadata": {},
     "output_type": "execute_result"
    },
    {
     "data": {
      "image/png": "[encoded data removed]",
      "text/plain": [
       "<matplotlib.figure.Figure at 0x7fbc3c63a160>"
      ]
     },
     "metadata": {},
     "output_type": "display_data"
    }
   ],
   "source": [
    "X, y = cp.load(open('voting-full.pickle', 'rb'))\n",
    "X[X==2]=np.nan\n",
    "NBCModel = NBC(['b']*16,2)\n",
    "CongressModelComparator = ModelComparator(X,y,NBCModel,LogisticModel)\n",
    "CongressModelComparator.compareModelPerformance()"
   ]
  }
 ],
 "metadata": {
  "anaconda-cloud": {},
  "kernelspec": {
   "display_name": "Python 3",
   "language": "python",
   "name": "python3"
  },
  "language_info": {
   "codemirror_mode": {
    "name": "ipython",
    "version": 3
   },
   "file_extension": ".py",
   "mimetype": "text/x-python",
   "name": "python",
   "nbconvert_exporter": "python",
   "pygments_lexer": "ipython3",
   "version": "3.6.2"
  }
 },
 "nbformat": 4,
 "nbformat_minor": 1
}
