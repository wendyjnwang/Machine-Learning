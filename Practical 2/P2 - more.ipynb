{
 "cells": [
  {
   "cell_type": "code",
   "execution_count": 3,
   "metadata": {
    "collapsed": true,
    "scrolled": true
   },
   "outputs": [],
   "source": [
    "import numpy as np \n",
    "import scipy.stats \n",
    "from scipy.misc import logsumexp\n",
    "epsilon = 1e-6\n",
    "\n",
    "\n",
    "class NBC(object):\n",
    "    \n",
    "    def __init__(self,feature_types=['b','r','b'],num_classes=4):\n",
    "        self.feature_types = np.array(feature_types)\n",
    "        self.num_classes = num_classes\n",
    "        self.num_features = len(feature_types)\n",
    "        self.alphab = 1 \n",
    "        self.alpham = 1 \n",
    "    \n",
    "    def fit(self,X,y):\n",
    "        self.classes, counts = np.unique(y, return_counts=True)\n",
    "        self.class_prior_ = counts/float(len(y))   \n",
    "        posClassMap = dict(enumerate(self.classes))\n",
    "        classPosMap = dict ((j,i) for (i,j) in enumerate(self.classes))\n",
    "  \n",
    "#         if len(self.classes) != self.num_classes: \n",
    "#             raise ValueError(\"Number of classes given is not equal to number of unique classes observed in training data\")\n",
    "        \n",
    "        self.real_features = np.where(self.feature_types == 'r')[0]\n",
    "        self.binary_features = np.where(self.feature_types == 'b')[0]\n",
    "        self.multivariate_features = np.where(self.feature_types == 'm')[0]\n",
    "        \n",
    "        self.mean_ = np.zeros((self.num_classes,len(self.real_features)))\n",
    "        self.var_ = np.zeros((self.num_classes,len(self.real_features)))  \n",
    "        self.binary_prob_log = np.zeros((self.num_classes,len(self.binary_features)))\n",
    "        self.binary_prob_log_neg = np.zeros((self.num_classes,len(self.binary_features)))\n",
    "        self.multi_prob_log = np.zeros((self.num_classes,len(self.multivariate_features)))\n",
    "        \n",
    "        for y_i in self.classes: \n",
    "            #seperate X by classes \n",
    "            pos = classPosMap.get(y_i)\n",
    "            X_i = X[y == y_i, :]\n",
    " \n",
    "            #deal with real-valued features  \n",
    "            X_r_i = X_i[:,self.real_features]\n",
    "            self.mean_[pos,:]= np.mean(X_r_i,axis=0)\n",
    "            self.var_[pos,:]= np.var(X_r_i,axis=0) + epsilon\n",
    "            \n",
    "            #deal with binary features \n",
    "            X_b_i = X_i[:,self.binary_features]\n",
    "            smoothed_fc = np.sum(X_b_i,axis=0)+ self.alphab\n",
    "            smoothed_cc = len(X_b_i) + 2*self.alphab\n",
    "            feature_log_prob = np.log(smoothed_fc/smoothed_cc)\n",
    "            self.binary_prob_log[pos,:] = feature_log_prob\n",
    "            self.binary_prob_log_neg[pos,:] = np.log(1 - np.exp(feature_log_prob))\n",
    "                        \n",
    "            #deal with multivariate_features\n",
    "            X_m_i = X_i[:,self.multivariate_features]\n",
    "            smoothed_fc = np.sum(X_m_i,axis=0) + self.alpham\n",
    "            smoothed_cc = np.atleast_2d(smoothed_fc).sum(axis=1)\n",
    "            self.multi_prob_log[pos,:] = np.log(smoothed_fc) - np.log(smoothed_cc)\n",
    "    \n",
    "    def predict(self,X):\n",
    "        joint_log_likelihood = [] \n",
    "        for i in range(self.num_classes):\n",
    "            prior = self.class_prior_[i]            \n",
    "            try:\n",
    "                prior = self.class_prior_[i]\n",
    "            except : \n",
    "                prior = epsilon\n",
    "            jointi = np.log(prior)\n",
    "            # dealing with real-valued features first \n",
    "            if (len(self.real_features)>0):\n",
    "                r_n_ij = - 0.5 * np.sum(np.log(2. * np.pi * self.var_[i, :]))\n",
    "                r_n_ij -= 0.5 * np.sum(((X[:,self.real_features] - self.mean_[i, :]) ** 2) /\n",
    "                                 (self.var_[i, :]), 1)\n",
    "                jointi += r_n_ij\n",
    "            if (len(self.binary_features)>0):\n",
    "                b_n_ij = np.dot(X[:,self.binary_features],(self.binary_prob_log[i,:] - self.binary_prob_log_neg[i,:]).T ) \\\n",
    "                    + np.atleast_2d(self.binary_prob_log_neg[i,:]).sum(axis=1)\n",
    "                jointi += b_n_ij\n",
    "            if (len(self.multivariate_features)>0):\n",
    "                m_n_ij = np.dot(X[:,self.multivariate_features],self.multi_prob_log[i,:].T ) \n",
    "                jointi += m_n_ij       \n",
    "                \n",
    "            joint_log_likelihood.append(jointi)\n",
    "        joint_log_likelihood = np.array(joint_log_likelihood).T\n",
    "        log_prob_x = logsumexp(joint_log_likelihood, axis=1)\n",
    "        joint_log_likelihood -=  np.atleast_2d(log_prob_x).T    \n",
    "#        print (joint_log_likelihood)\n",
    "        return self.classes[np.argmax(joint_log_likelihood, axis=1)]   \n",
    "        \n",
    "\n",
    "# Testing Gaussian         \n",
    "#X = np.array([[-1, -1], [-2, -1], [-3, -2], [1, 1], [2, 1], [3, 2]])\n",
    "#Y = np.array([1, 1, 1, 2, 2, 2])\n",
    "\n",
    "#model = NBC(['r','r'],2)\n",
    "#model.fit(X,Y)\n",
    "#model.predict(X) \n",
    "\n",
    "\n",
    "# Testing Bernoulli \n",
    "# X = np.random.randint(2, size=(6, 2))\n",
    "# Y = np.array([1, 2, 3, 4, 4, 5])\n",
    "# from sklearn.naive_bayes import BernoulliNB\n",
    "# clf = BernoulliNB()\n",
    "# clf.fit(X, Y)\n",
    "# BernoulliNB(alpha=1.0, binarize=0.0, class_prior=None, fit_prior=True)\n",
    "# print (clf.predict_log_proba(X))\n",
    "# print(clf.predict(X))\n",
    "\n",
    "# model = NBC(['b','b'],5)\n",
    "# model.fit(X,Y)\n",
    "# print(model.predict(X))\n",
    "                           \n",
    "# Testing MultiNomial                            \n",
    "# X= np.array([[2,1, 3],\n",
    "#  [1, 0, 1],\n",
    "#  [0, 4, 4],\n",
    "#  [3 ,1,3],\n",
    "#  [1, 0 ,0 ],\n",
    "#  [2 ,0, 4]])\n",
    "# X = np.random.randint(5, size=(6, 5))\n",
    "# Y = np.array([1, 2, 3, 4, 5, 6])\n",
    "# from sklearn.naive_bayes import MultinomialNB\n",
    "# clf = MultinomialNB(alpha=1)\n",
    "# clf.fit(X, Y)\n",
    "# print (clf.predict_log_proba(X))\n",
    "# print (clf.predict(X))      \n",
    "\n",
    "# model = NBC(['m','m','m','m','m'],6)\n",
    "# model.fit(X,Y)\n",
    "# print(model.predict(X))                           \n"
   ]
  },
  {
   "cell_type": "markdown",
   "metadata": {},
   "source": [
    "C is the inverse of regularization strength, so when lambda = 0.1, we should set C as 10.  "
   ]
  },
  {
   "cell_type": "code",
   "execution_count": 2,
   "metadata": {
    "collapsed": true
   },
   "outputs": [],
   "source": [
    "from sklearn.linear_model import LogisticRegression\n",
    "LogisticModel = LogisticRegression(C=10)\n"
   ]
  },
  {
   "cell_type": "code",
   "execution_count": 3,
   "metadata": {},
   "outputs": [
    {
     "name": "stdout",
     "output_type": "stream",
     "text": [
      "[[1 2 3 4 5 6]]\n",
      "[1, 2, 3, 4, 5, 6]\n"
     ]
    }
   ],
   "source": [
    "# import cPickle as cp\n",
    "# import numpy as np\n",
    "# X, y = cp.load(open('voting.cPikcle', 'rb'))\n",
    "a = np.matrix([[1,2,3,4,5,6]])\n",
    "\n",
    "print (a)\n",
    "b = [a[0,i] for i in range(6)]\n",
    "print (b)\n"
   ]
  },
  {
   "cell_type": "code",
   "execution_count": 4,
   "metadata": {
    "collapsed": true
   },
   "outputs": [],
   "source": [
    "import matplotlib.pyplot as plt\n",
    "from sklearn.naive_bayes import GaussianNB\n",
    "from sklearn.naive_bayes import BernoulliNB\n",
    "\n",
    "class ModelComparator(object):\n",
    "    \n",
    "    def __init__(self,X,y,NBCModel, LogisticModel):\n",
    "        self.X = X\n",
    "        self.y = y \n",
    "        self.NBCModel = NBCModel\n",
    "        self.LogisticModel = LogisticModel\n",
    "        \n",
    "    def compareModelPerformance(self):\n",
    "        X = self.X\n",
    "        y = self.y\n",
    "        NBCModel = self.NBCModel\n",
    "        TestModel = GaussianNB()\n",
    "        TestModel = BernoulliNB()\n",
    "        LogisticModel = self.LogisticModel   \n",
    "        NBC_error_matrix = []\n",
    "        Logistic_error_matrix = []\n",
    "        Test_error_matrix = []\n",
    "        \n",
    "        N, D = X.shape\n",
    "        Ntrain = int(0.8 * N)\n",
    "        num_permutations = 200 \n",
    "        perm =  0\n",
    "        datapoints = [i+1 for i in range(10)]\n",
    "\n",
    "        while (perm <= num_permutations):\n",
    "            k = 1 \n",
    "            perm +=1\n",
    "            NBC_error = [] \n",
    "            Logistic_error = []\n",
    "            Test_error = []\n",
    "            \n",
    "            # make sure the first fold contains all possible categories ... \n",
    "            first_fold = int(k/10*Ntrain )\n",
    "            while (1):\n",
    "                shuffler = np.random.permutation(N)\n",
    "                Xtrain = X[shuffler[:Ntrain]]\n",
    "                ytrain = y[shuffler[:Ntrain]]\n",
    "                Xtest = X[shuffler[Ntrain:]]\n",
    "                ytest = y[shuffler[Ntrain:]]\n",
    "                if len(np.unique(ytrain[:first_fold])) == len(np.unique(ytrain)):\n",
    "                    break \n",
    "\n",
    "            while (k<=10):\n",
    "                NPartialTrain = int(k/10*Ntrain)\n",
    "                X_train_model = Xtrain[:NPartialTrain]\n",
    "                y_train_model = ytrain[:NPartialTrain]\n",
    "                \n",
    "                TestModel.fit(X_train_model,y_train_model)\n",
    "                TestPredicted = TestModel.predict(Xtest)\n",
    "                Test_error.append(1- float(np.sum((TestPredicted == ytest))/len(ytest)))\n",
    "                \n",
    "                NBCModel.fit(X_train_model,y_train_model)\n",
    "                NBCPredicted = NBCModel.predict(Xtest)\n",
    "                NBC_error.append(1- float(np.sum((NBCPredicted == ytest))/len(ytest)))\n",
    "                LogisticModel.fit(X_train_model,y_train_model)\n",
    "                LPredicted = LogisticModel.predict(Xtest)      \n",
    "                Logistic_error.append(1- float(np.sum((LPredicted == ytest))/len(ytest)))\n",
    "                k+=1\n",
    "            NBC_error_matrix.append(NBC_error)\n",
    "            Logistic_error_matrix.append(Logistic_error)\n",
    "            Test_error_matrix.append(Test_error)\n",
    "\n",
    "        NBC_error = np.mean(np.matrix(NBC_error_matrix),axis=0)\n",
    "        Logistic_error = np.mean(np.matrix(Logistic_error_matrix),axis=0)\n",
    "        Test_error= np.mean(np.matrix(Test_error_matrix),axis=0)\n",
    "        \n",
    "        NBC_error_list = [NBC_error[0,i] for i in range(10)]\n",
    "        Logistic_error_list = [Logistic_error[0,i] for i in range(10)]\n",
    "        Test_error_list = [Test_error[0,i] for i in range(10)]\n",
    "        \n",
    "        \n",
    "        %matplotlib inline    \n",
    "        plt.plot(datapoints,NBC_error_list)\n",
    "        plt.plot(datapoints,Logistic_error_list)\n",
    " #       plt.plot(datapoints,Test_error_list)\n",
    "        plt.legend(['NBC Model Testing Error', 'Logistic Model Testing Error'], loc='upper right') \n",
    " #       plt.legend(['NBC Model Testing Error', 'Logistic Model Testing Error','Test Model'], loc='upper right')            "
   ]
  },
  {
   "cell_type": "code",
   "execution_count": null,
   "metadata": {
    "collapsed": true
   },
   "outputs": [],
   "source": []
  },
  {
   "cell_type": "markdown",
   "metadata": {},
   "source": [
    "Iris Dataset "
   ]
  },
  {
   "cell_type": "code",
   "execution_count": 6,
   "metadata": {},
   "outputs": [
    {
     "name": "stdout",
     "output_type": "stream",
     "text": [
      "[0 0 0 0 0 0 0 0 0 0 0 0 0 0 0 0 0 0 0 0 0 0 0 0 0 0 0 0 0 0 0 0 0 0 0 0 0\n",
      " 0 0 0 0 0 0 0 0 0 0 0 0 0 1 1 2 1 1 1 1 1 1 1 1 1 1 1 1 1 1 1 1 1 2 1 1 1\n",
      " 1 1 1 2 1 1 1 1 1 1 1 1 1 1 1 1 1 1 1 1 1 1 1 1 1 1 2 2 2 2 2 2 1 2 2 2 2\n",
      " 2 2 2 2 2 2 2 2 1 2 2 2 2 2 2 2 2 2 2 2 2 2 1 2 2 2 2 2 2 2 2 2 2 2 2 2 2\n",
      " 2 2]\n"
     ]
    },
    {
     "name": "stderr",
     "output_type": "stream",
     "text": [
      "/usr/local/Anaconda3/lib/python3.6/site-packages/ipykernel_launcher.py:57: RuntimeWarning: divide by zero encountered in log\n"
     ]
    },
    {
     "ename": "NameError",
     "evalue": "name 'LogisticModel' is not defined",
     "output_type": "error",
     "traceback": [
      "\u001b[0;31m---------------------------------------------------------------------------\u001b[0m",
      "\u001b[0;31mNameError\u001b[0m                                 Traceback (most recent call last)",
      "\u001b[0;32m<ipython-input-6-b6fa3ebe8e45>\u001b[0m in \u001b[0;36m<module>\u001b[0;34m()\u001b[0m\n\u001b[1;32m     15\u001b[0m \u001b[0;34m\u001b[0m\u001b[0m\n\u001b[1;32m     16\u001b[0m \u001b[0;34m\u001b[0m\u001b[0m\n\u001b[0;32m---> 17\u001b[0;31m \u001b[0mIrisModelComparator\u001b[0m \u001b[0;34m=\u001b[0m \u001b[0mModelComparator\u001b[0m\u001b[0;34m(\u001b[0m\u001b[0mX\u001b[0m\u001b[0;34m,\u001b[0m\u001b[0my\u001b[0m\u001b[0;34m,\u001b[0m\u001b[0mNBCModel\u001b[0m\u001b[0;34m,\u001b[0m\u001b[0mLogisticModel\u001b[0m\u001b[0;34m)\u001b[0m\u001b[0;34m\u001b[0m\u001b[0m\n\u001b[0m\u001b[1;32m     18\u001b[0m \u001b[0mIrisModelComparator\u001b[0m\u001b[0;34m.\u001b[0m\u001b[0mcompareModelPerformance\u001b[0m\u001b[0;34m(\u001b[0m\u001b[0;34m)\u001b[0m\u001b[0;34m\u001b[0m\u001b[0m\n\u001b[1;32m     19\u001b[0m \u001b[0;34m\u001b[0m\u001b[0m\n",
      "\u001b[0;31mNameError\u001b[0m: name 'LogisticModel' is not defined"
     ]
    }
   ],
   "source": [
    "from sklearn.datasets import load_iris\n",
    "from sklearn import metrics\n",
    "iris = load_iris()\n",
    "X, y = iris['data'], iris['target']\n",
    "NBCModel = NBC(['r','r','r','r'],3)\n",
    "\n",
    "NBCModel.fit(X,y)\n",
    "print (NBCModel.predict(X))\n",
    "\n",
    "GaussianModel = GaussianNB()\n",
    "\n",
    "IrisModelComparator = ModelComparator(X,y,NBCModel,LogisticModel)\n",
    "IrisModelComparator.compareModelPerformance()\n",
    "\n"
   ]
  },
  {
   "cell_type": "markdown",
   "metadata": {},
   "source": [
    "Congressional Voting Records Dataset"
   ]
  },
  {
   "cell_type": "code",
   "execution_count": 6,
   "metadata": {},
   "outputs": [
    {
     "name": "stderr",
     "output_type": "stream",
     "text": [
      "/usr/local/Anaconda3/lib/python3.6/site-packages/ipykernel_launcher.py:57: RuntimeWarning: divide by zero encountered in log\n"
     ]
    },
    {
     "data": {
      "image/png": "[encoded data removed]",
      "text/plain": [
       "<matplotlib.figure.Figure at 0x7f84b00d0f98>"
      ]
     },
     "metadata": {},
     "output_type": "display_data"
    }
   ],
   "source": [
    "import pickle as cp\n",
    "import numpy as np\n",
    "X, y = cp.load(open('voting.pickle', 'rb'))\n",
    "NBCModel = NBC(['b']*16,2)\n",
    "CongressModelComparator = ModelComparator(X,y,NBCModel,LogisticModel)\n",
    "CongressModelComparator.compareModelPerformance()\n"
   ]
  }
 ],
 "metadata": {
  "anaconda-cloud": {},
  "kernelspec": {
   "display_name": "Python 3",
   "language": "python",
   "name": "python3"
  },
  "language_info": {
   "codemirror_mode": {
    "name": "ipython",
    "version": 3
   },
   "file_extension": ".py",
   "mimetype": "text/x-python",
   "name": "python",
   "nbconvert_exporter": "python",
   "pygments_lexer": "ipython3",
   "version": "3.6.2"
  }
 },
 "nbformat": 4,
 "nbformat_minor": 1
}
