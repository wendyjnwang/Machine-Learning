{
 "cells": [
  {
   "cell_type": "code",
   "execution_count": null,
   "metadata": {
    "collapsed": true
   },
   "outputs": [],
   "source": [
    "import numpy as np\n",
    "from sklearn.naive_bayes import BernoulliNB\n",
    "from sklearn.naive_bayes import GaussianNB\n",
    "from sklearn.preprocessing import LabelBinarizer\n",
    "from sklearn.utils.extmath import safe_sparse_dot\n",
    "\n",
    "X= np.array([[2,1, 3],\n",
    " [1, 0, 1],\n",
    " [0, 4, 4],\n",
    " [3 ,1,3],\n",
    " [1, 0 ,0 ],\n",
    " [2 ,0, 4]])\n",
    "Y = np.array([1, 2, 3, 4, 5, 6])\n",
    "\n",
    "labelbin = LabelBinarizer()\n",
    "Y = labelbin.fit_transform(Y)\n",
    "print (\"labelbined Y\")\n",
    "print (Y)\n",
    "#print(labelbin.classes_)\n",
    "\n",
    "feature_count= safe_sparse_dot(Y.T, X)\n",
    "print (\"Feature Count\")\n",
    "print (feature_count)\n",
    "\n",
    "class_count= Y.sum(axis=0)\n",
    "print (\"Class Count\")\n",
    "print (class_count)\n",
    "\n",
    "alpha = 1\n",
    "\n",
    "smoothed_fc = feature_count + alpha\n",
    "smoothed_cc = smoothed_fc.sum(axis=1)\n",
    "\n",
    "print (\"Smoothed FC\")\n",
    "print (smoothed_fc)\n",
    "print (\"Smoothed CC\")\n",
    "print (smoothed_cc)\n",
    "\n",
    "print (\"Smoothed CC reshaped\")\n",
    "print (smoothed_cc.reshape(-1, 1))\n",
    "feature_log_prob_ = (np.log(smoothed_fc) -np.log(smoothed_cc.reshape(-1, 1)))\n",
    "print (\"feature prob\")\n",
    "print (np.exp(feature_log_prob_))\n",
    "print (\"feature prob log\")\n",
    "print (feature_log_prob_)\n",
    "\n",
    "neg_prob = np.log(1 - np.exp(feature_log_prob_))\n",
    "print (\"1 - feature prob\")\n",
    "print (np.exp(neg_prob))\n",
    "\n",
    "print ('hahah')\n",
    "print ((feature_log_prob_ - neg_prob).T)\n",
    "\n",
    "jll = safe_sparse_dot(X, (feature_log_prob_ - neg_prob).T)\n",
    "jll +=  neg_prob.sum(axis=1)\n",
    "\n",
    "print (np.exp(jll))"
   ]
  },
  {
   "cell_type": "code",
   "execution_count": null,
   "metadata": {
    "collapsed": true
   },
   "outputs": [],
   "source": [
    "from sklearn.multiclass import OneVsRestClassifier\n",
    "from sklearn.multiclass import OneVsOneClassifier\n",
    "OVR = OneVsRestClassifier(LogisticRegression()).fit(X,y)\n",
    "OVO = OneVsOneClassifier(LogisticRegression()).fit(X,y)\n",
    "\n",
    "print (\"One vs rest accuracy: %.3f\" % OVR.score(X,y))\n",
    "print (\"One vs one accuracy: %.3f\" % OVO.score(X,y))from sklearn.datasets import load_iris\n",
    "from sklearn import metrics\n",
    "iris = load_iris()\n",
    "X, y = iris['data'], iris['target']\n",
    "# fit a logistic regression model to the data\n",
    "LogisticModel.fit(iris.data, iris.target)\n",
    "# make predictions\n",
    "expected = iris.target\n",
    "predicted = LogisticModel.predict(iris.data)\n",
    "# summarize the fit of the model\n",
    "print(metrics.classification_report(expected, predicted))\n",
    "print(metrics.confusion_matrix(expected, predicted))"
   ]
  },
  {
   "cell_type": "code",
   "execution_count": null,
   "metadata": {
    "collapsed": true
   },
   "outputs": [],
   "source": []
  }
 ],
 "metadata": {
  "anaconda-cloud": {},
  "kernelspec": {
   "display_name": "Python 3",
   "language": "python",
   "name": "python3"
  },
  "language_info": {
   "codemirror_mode": {
    "name": "ipython",
    "version": 3
   },
   "file_extension": ".py",
   "mimetype": "text/x-python",
   "name": "python",
   "nbconvert_exporter": "python",
   "pygments_lexer": "ipython3",
   "version": "3.6.2"
  }
 },
 "nbformat": 4,
 "nbformat_minor": 1
}
